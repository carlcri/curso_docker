{
 "cells": [
  {
   "attachments": {},
   "cell_type": "markdown",
   "metadata": {},
   "source": [
    "# Docker Compose"
   ]
  },
  {
   "attachments": {},
   "cell_type": "markdown",
   "metadata": {},
   "source": [
    "## Docker Compose: la herramienta todo en uno\n",
    "\n",
    "Todo lo que hemos hecho hasta ahora esta bien, pero es un poco tedioso. Para ello esta docker compose.\n",
    "\n",
    "Si estas usando Windows esta instalada por defecto con docker desktop. Si estas usando Linux debes instalarla. Parece que ya la tengo. "
   ]
  }
 ],
 "metadata": {
  "language_info": {
   "name": "python"
  },
  "orig_nbformat": 4
 },
 "nbformat": 4,
 "nbformat_minor": 2
}
