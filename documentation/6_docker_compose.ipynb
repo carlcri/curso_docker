{
 "cells": [
  {
   "attachments": {},
   "cell_type": "markdown",
   "metadata": {},
   "source": [
    "# Docker Compose"
   ]
  },
  {
   "attachments": {},
   "cell_type": "markdown",
   "metadata": {},
   "source": [
    "## Docker Compose: la herramienta todo en uno\n",
    "\n",
    "Todo lo que hemos hecho hasta ahora esta bien, pero es un poco tedioso. Para ello esta docker compose.\n",
    "\n",
    "Si estas usando Windows esta instalada por defecto con docker desktop. Si estas usando Linux debes instalarla. Parece que ya la tengo. \n",
    "\n",
    "Docker Compose lo que nos permite es describir de forma declarativa la arquitectura de servicios que nuestra aplicacion necesita. Y se hace desde un pequeño archivo, para que docker corra casi todos los comandos que venimos ejecutando manualmente.\n",
    "\n",
    "Vamos al proyecto en el **folder docker** donde hay un archivo llamado *docker-compose.yml*. Basicamente es una estructura declarativa.\n",
    "\n",
    "![](https://i.imgur.com/rXZvpfz.png)\n",
    "\n",
    "- services: indica los servicios que componen la aplicacion, en nuestro caso esta compuesta por dos servicios o microservicios: una que se llama **app** y otra que se llama **db** como en la seccion anterior.\n",
    "\n",
    "- Donde se indica la imagen de mongo, le indico la version, pues ya tengo una imagen de dicha version.\n",
    "\n",
    "Un servicio de compose es o viene siendo equivalente al concepto de container, donde **app** y **db** son dos contenedores. Aunque hay una sutil diferencia.\n",
    "\n",
    "Porque un servicio, puede tener uno o mas contenedores de la misma imagen. Y tener por ejemplo mas contenedores de **app** para poder facilmente tener mas BW en nuestra aplicacion. \n",
    "\n",
    "- El statement *depends_on*, indicamos que dicho contenedor va a depender de el servicio *db*. Es decir, que **db** necesita ser creado antes que **app**"
   ]
  },
  {
   "attachments": {},
   "cell_type": "markdown",
   "metadata": {},
   "source": [
    "### Ejercicio.\n",
    "\n",
    "Encontrar similitudes entre la figura anterior y los siguientes comandos usados anteriormente:\n",
    "\n",
    "    docker run -d --name db mongo:5.0\n",
    "\n",
    "    docker run -d --name app -p 3000:3000 --env MONGO_URL=mongodb://db:27017/test platziapp"
   ]
  },
  {
   "attachments": {},
   "cell_type": "markdown",
   "metadata": {},
   "source": [
    "### Aprendiendo a usar docker compose\n",
    "\n",
    "#### Preparando el entorno\n",
    "\n",
    "Empezemos por remover los contenedores previamente creados y evitar posibles conflictos:\n",
    "\n",
    "![](https://i.imgur.com/39LyW8g.png)\n",
    "\n",
    "    docker rm app db\n",
    "\n",
    "Igualmente interesante, es lo descrito por el instructor, donde los procesos del ejercio anterior estan corriendo, y como al intentar crear un nuevo proceso usando los mismos puertos, pues va a generar un conflico\n",
    "\n",
    "![](https://i.imgur.com/oMNxqh5.png)"
   ]
  },
  {
   "attachments": {},
   "cell_type": "markdown",
   "metadata": {},
   "source": [
    "#### Listo\n",
    "\n",
    "Simplemente:\n",
    "\n",
    "    docker compose up\n",
    "\n",
    "Y empezara a correr y a llenar mi consola porque no lo corri en modo detach. Y empezara a mostrar los logs de ambas aplicaciones.\n",
    "\n",
    "![](https://i.imgur.com/u9rCFJV.png)\n",
    "\n",
    "\n",
    "\n",
    "    \n"
   ]
  },
  {
   "attachments": {},
   "cell_type": "markdown",
   "metadata": {},
   "source": [
    "- Crea los Containers, con un nombre propio, para evitar posibles conflictos con otros contenedores esten corriendo y tengan el mismo nombre. \n",
    "\n",
    "- Los containers empiezan por docker, no por docker, sino porque estoy en la carpeta docker 😏\n",
    "\n",
    "- Fijate el orden crea los contenedores.\n",
    "\n",
    "- A diferencia del instructor, no hay una evidencia haya creado una red\n",
    "\n",
    "- y los atañe aparentemente a la misma red.\n",
    "\n",
    "Si vamos al navegador en el *http://localhost:3000/* veremos esta corriendo 😎\n",
    "\n",
    "Parece ser hay unas sutiles diferencias, de mis logs a los mostrados por el instructor. \n",
    "\n",
    "### Levantando el servicio en modo detach\n",
    "\n",
    "    docker compose up -d\n",
    "\n",
    "![](https://i.imgur.com/5QFMzye.png)\n",
    "\n",
    "Y el resultado es el mismo:\n",
    "\n",
    "![](https://i.imgur.com/ZkqFZLx.png)\n",
    "\n",
    "#### Analizando \n",
    "\n",
    "![](https://i.imgur.com/HN9MRe8.png)\n",
    "\n",
    "- app esta exponiendo el servicio en el puerto 3000 como era de esperarse y puedo accederlo desde mi maquina.\n",
    "\n",
    "- pero db expone el puerto 27017 pero solo para la red interna.\n",
    "\n",
    "¿Y cual es la red interna?\n"
   ]
  },
  {
   "attachments": {},
   "cell_type": "markdown",
   "metadata": {},
   "source": [
    "Inspeccionando cada una de las redes de docker encontre que:\n",
    "\n",
    "    docker network inspect docker_default\n",
    "\n",
    "![](https://i.imgur.com/Rz91spZ.png)\n",
    "\n",
    "Los dos containers estan conectados en la red *docker default*\n",
    "\n"
   ]
  },
  {
   "attachments": {},
   "cell_type": "markdown",
   "metadata": {},
   "source": [
    "## Subcomandos de Docker Compose\n",
    "\n",
    "👉 Importante aclarar que en el statement de la variable de entorno, en el compose file, **db** esta haciendo referencia al otro servicio, no necesito saber el nombre del contenedor(en perse) como fue fue el caso en la seccion de *docker network*\n",
    "\n",
    "![](https://i.imgur.com/nS6sBTN.png)"
   ]
  },
  {
   "attachments": {},
   "cell_type": "markdown",
   "metadata": {},
   "source": [
    "### Ver los logs\n",
    "\n",
    "Para ver lo de todos los servicios:\n",
    "\n",
    "    docker compose logs \n",
    "\n",
    "Para ver solamente de un servicio:\n",
    "\n",
    "    docker compose logs app\n",
    "\n",
    "![](https://i.imgur.com/Y9nm16M.png)\n",
    "\n",
    "Y para verlos en tiempo real, o a medida que se van generando:\n",
    "\n",
    "    docker compose logs -f app\n",
    "\n",
    "Y para el otro servicio obviamente:\n",
    "\n",
    "    docker compose logs db\n",
    "\n",
    "#### Corriendo un comando o proceso especifico en un contenedor\n",
    "\n",
    "Muy facil, con exec, y en vez de colocar el nombre del contenedor, pues el nombre del servicio:\n",
    "\n",
    "    docker compose exec app bash\n",
    "\n",
    "Y efectivamente, vamos a poder ver nuestro codigo \n",
    "\n",
    "![](https://i.imgur.com/1WexGWK.png)\n",
    "\n",
    "\n",
    "\n",
    "\n"
   ]
  },
  {
   "attachments": {},
   "cell_type": "markdown",
   "metadata": {},
   "source": [
    "#### Borrando todo\n",
    "\n",
    "    docker compose down \n",
    "\n",
    "E increiblemente, borra los contenedores tambien 😁"
   ]
  },
  {
   "attachments": {},
   "cell_type": "markdown",
   "metadata": {},
   "source": [
    "## Docker Compose como herramienta de desarrollo\n",
    "\n"
   ]
  }
 ],
 "metadata": {
  "language_info": {
   "name": "python"
  },
  "orig_nbformat": 4
 },
 "nbformat": 4,
 "nbformat_minor": 2
}
