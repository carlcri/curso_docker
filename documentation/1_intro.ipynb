{
 "cells": [
  {
   "attachments": {},
   "cell_type": "markdown",
   "metadata": {},
   "source": [
    "## Todo lo que aprenderas sobre Docker\n",
    "\n",
    "Explicandolo con gatitos\n",
    "\n",
    "https://teloexplicocongatitos.com/poster/tlecg16\n",
    "\n",
    "Te imaginas escribir un monton de codigo en tu compu de trabajo para que corra en un servidor y no funcione. No es un problema trivial"
   ]
  },
  {
   "attachments": {},
   "cell_type": "markdown",
   "metadata": {},
   "source": [
    "## Las tres áreas en el desarrollo de software profesional\n",
    "\n",
    "Los tres grandes problemas del desarrollo de software profesional sin importar la tecnologia.\n",
    "\n",
    "![](https://i.imgur.com/aFcX1Vf.png)\n",
    "\n",
    "### Construir \n",
    "\n",
    "Construir software es solo una (pequeña) parte. Partamos el desarrollador no trabaja solo sino en equipos, y eso implica compartir codigo, veamos algunos problemas:\n",
    "\n",
    "- Entorno de desarrollo (paquetes)\n",
    "- Dependencias (Frameworks, bibliotecas)\n",
    "- Versiones de entornos de ejecución (runtime, versión Node)\n",
    "- Equivalencia de entornos de desarrollo (compartir el código)\n",
    "- Equivalencia con entornos productivos (pasar a producción)\n",
    "- Servicios externos (integración con otros servicios ejem: base de datos)\n",
    "\n",
    "\n",
    "Escribir código en la máquina del desarrollador. (Compile, que no compile, arreglar el bug, compartir código, etc. )"
   ]
  },
  {
   "attachments": {},
   "cell_type": "markdown",
   "metadata": {},
   "source": [
    "### Distribuir\n",
    "\n",
    "Llevar la aplicación donde se va a desplegar (Transformarse en un artefacto)\n",
    "\n",
    "Problematica:\n",
    "\n",
    "- Divergencia de repositorios\n",
    "- Divergencia de artefactos\n",
    "- Versionado\n",
    "\n",
    "- Output de build heterogeo (múltiples compilaciones)\n",
    "- Acceso a servidores productivos (No tenemos acceso al servidor)\n",
    "- Ejecución nativa vs virtualizada\n",
    "- Entornos Serverless\n",
    "\n",
    "### Ejecutar\n",
    "\n",
    "La máquina donde se escribe el software siempre es distinta a la máquina donde se ejecuta de manera productiva.\n",
    "\n",
    "\n",
    "Implementar la solución en el ambiente de producción (Subir a producción)\n",
    "El reto Hacer que funcione como debería funcionar\n",
    "\n",
    "Problemática:\n",
    "\n",
    "- Dependencia de aplicación (paquetes, runtime)\n",
    "- Compatibilidad con el entorno productivo (sistema operativo poco amigable con la solución)\n",
    "- Disponibilidad de servicios externos (Acceso a los servicios externos)\n",
    "- Recursos de hardware (Capacidad de ejecución - Menos memoria, procesador más debil)"
   ]
  },
  {
   "attachments": {},
   "cell_type": "markdown",
   "metadata": {},
   "source": [
    "### ¿Y ahora quien podra ayudarnos?\n",
    "\n",
    "Docker te permite construir, distribuir y ejecutar cualquier aplicación en cualquier lado."
   ]
  },
  {
   "attachments": {},
   "cell_type": "markdown",
   "metadata": {},
   "source": [
    "## Virtualizacion\n",
    "\n",
    "Una de las maneras de resolver los problemas mencionados anteriormente por parte de la industria del software. \n",
    "\n",
    "**¿Que es virtualizacion?**\n",
    "\n",
    ".. versión virtual de algún recurso tecnológico, como (...) hardware, un sistema operativo, un dispositivo de almacenamiento o (...) recurso de red.Turban, \n",
    "\n",
    "En ese sentido, la virtualizacion permite atacar en simultáneo los tres problemas del desarrollo de software profesional.\n",
    "\n",
    "### Maquinas virtuales, si pero no...\n",
    "\n",
    "Costruir una version virtual de lo que es una maquina, en ese sentido, esa maquina contara con las dependencias, el SO que necesitamos, etc, etc. Pero...\n",
    "\n",
    "*Problemas de las VMs*\n",
    "\n",
    "- PesoEn el orden de los GBs. Repiten archivos en común. Inicio lento( Arrancar una maquina no siempre es rapido)\n",
    "\n",
    "- Costo de administraciónNecesita mantenimiento igual que cualquier otra computadora.\n",
    "\n",
    "- Múltiples de formatosVDI, VMDK, VHD, raw, etc.\n",
    "\n",
    "### Containerización\n",
    "\n",
    "Docker no usa VMs, usa contenedores, en una forma analoga en como la industria de transporte maritimo los usa para transportar mercancias.\n",
    "\n",
    "El empleo de contenedores para construir y desplegar software.\n",
    "\n",
    "![](https://i.imgur.com/odcW2vg.png)\n",
    "\n",
    "Toda aplicacion puede meterse dentro de un contenedor. Portables significa que estas disponibles para correr de la misma forma en cualquier maquina. Bajo acomplamiento porque cada contenedor contiene todo lo necesario para correr el codigo que esta dentro del mismo. \n",
    "\n",
    "### Contenedores vs VMs\n",
    "\n",
    "Un Contenedor solo contiene el codigo de aplicacion, y los binarios o librerias que necesita ese codigo. En un esquema de maquinas virtuales, ademas de todo lo anterior, tambien tendria el SO\n",
    "\n",
    "![](https://i.imgur.com/yfFFWRT.png)"
   ]
  },
  {
   "attachments": {},
   "cell_type": "markdown",
   "metadata": {},
   "source": [
    "## Preparando tu entorno de trabajo\n",
    "\n",
    "Al igual que en el curso de *Mongo DB* donde se tuvo la primera experiencia con docker, se siguio el siguiente tutorial para instalarlo en mi maquina\n",
    "\n",
    "https://docs.docker.com/engine/install/ubuntu/#install-using-the-repository\n",
    "\n",
    "Verifica la version que estas usando:\n",
    "\n",
    "    docker --version\n",
    "\n",
    "Otro comando muy util es:\n",
    "\n",
    "    docker info \n",
    "\n",
    "## Play with Docker\n",
    "\n",
    "Si por alguna razon hubo problemas instalando Docker, ve a *https://labs.play-with-docker.com/*\n",
    "\n",
    "Crea una cuenta. Al ingresar, notaras solo tienes 4 horas gratis. \n"
   ]
  },
  {
   "attachments": {},
   "cell_type": "markdown",
   "metadata": {},
   "source": [
    "## Qué es y cómo funciona Docker\n",
    "\n",
    "Plataforma que permite construir, ejecutar y compartir aplicaciones mediante contenedores.\n",
    "\n",
    "![](https://i.imgur.com/56SEIyH.png)"
   ]
  },
  {
   "attachments": {},
   "cell_type": "markdown",
   "metadata": {},
   "source": [
    "Docker es la toda la bola azul que acabamos de instalar. EL corazon del mismo es el docker daemon, que lo que hace es manejar todas las entidades, permitiendonos crear los contenedores, escalarlos, destruirlos, siendo este daemon el que interactua con el SO para que todo esto pase. \n",
    "\n",
    "Despues viene la REST API, y luego al el Docker CLI donde ejecutamos los comandos. \n",
    "\n",
    "Cuando usamos Docker en la terminal lo que usamos es el Client, y este ultimo le habla al daemon con las respectivas instrucciones. Pero el cliente podria ser algo mas general. Por ejemplo si se hago un aplicacion, como por ejemplo una en python, en la cual desde Python le hablo al daemon.\n",
    "\n",
    "Hasta ahora solo hemos hablado de los contenedores, pero hay otra entidades como las imagenes cuyo uso es empaquetar el codigo."
   ]
  }
 ],
 "metadata": {
  "language_info": {
   "name": "python"
  },
  "orig_nbformat": 4
 },
 "nbformat": 4,
 "nbformat_minor": 2
}
