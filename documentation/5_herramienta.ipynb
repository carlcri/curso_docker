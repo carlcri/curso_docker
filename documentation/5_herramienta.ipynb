{
 "cells": [
  {
   "attachments": {},
   "cell_type": "markdown",
   "metadata": {},
   "source": [
    "# Docker como herramienta de desarrollo\n",
    "\n",
    "## Usando Docker para desarrollar aplicaciones\n",
    "\n",
    "Ahora que tenemos el conocimiento de los contenedores y construir imagenes. Vemos como Docker puede ayudarnos en el dia a dia para construir applicaciones.\n",
    "\n",
    "Clonaremos un repo:\n",
    "\n"
   ]
  }
 ],
 "metadata": {
  "language_info": {
   "name": "python"
  },
  "orig_nbformat": 4
 },
 "nbformat": 4,
 "nbformat_minor": 2
}
