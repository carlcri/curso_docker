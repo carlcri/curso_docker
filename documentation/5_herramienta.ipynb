{
 "cells": [
  {
   "attachments": {},
   "cell_type": "markdown",
   "metadata": {},
   "source": [
    "# Docker como herramienta de desarrollo\n",
    "\n",
    "## Usando Docker para desarrollar aplicaciones\n",
    "\n",
    "Ahora que tenemos el conocimiento de los contenedores y construir imagenes. Vemos como Docker puede ayudarnos en el dia a dia para construir applicaciones.\n",
    "\n",
    "Clonaremos un repo: https://github.com/platzi/docker\n",
    "\n",
    "    git clone https://github.com/platzi/docker\n",
    "\n",
    "Hay varios archivos, pero es una aplicacion en Node JS, y exploramos el *index.js*. No necesitamos ser expertos en dicho lenguaje pero ayuda. \n",
    "\n",
    "![](https://i.imgur.com/7O0TGKY.png)"
   ]
  },
  {
   "attachments": {},
   "cell_type": "markdown",
   "metadata": {},
   "source": [
    "Se expone una api en la ruta base, y va recibir una peticio, y va intentar conectarse a una instancia de Mongo DB. Si puede, dice que lo pudo hacer, y si no arroja un error.\n",
    "\n",
    "### Examinando el Docker File\n",
    "\n",
    "![](https://i.imgur.com/mTjX7GN.png)\n",
    "\n",
    "- Basado en node: 12\n",
    "- Con la instrucion copi, se copian todos los archivos...\n",
    "\n",
    "Es importante entender lo que significa el punto(.). Le estoy diciendo donde estoy parado, y donde estoy parado esta hablando del *contexto de build*, \n",
    "\n",
    "- A continuacion se especifica un directorio de trabajo, que es equivalente a hacer: *cd usr/src*. Dentro de la imagen obviamente\n",
    "\n",
    "- Ya dentro de ese directorio, se ejecuta *npm install*. Que instala las dependencias relacionadas en el *package.json*.\n",
    "\n",
    "- Luego, expone un puerto: 3000. Es decir, se pueda acceder al contenedor a traves del puerto.\n",
    "\n",
    "- POr ultimo, CMD, donde se define el comando o proceso por defecto que va a ejecutarse, cuando se corra un contendedo basado en esta imagen"
   ]
  }
 ],
 "metadata": {
  "language_info": {
   "name": "python"
  },
  "orig_nbformat": 4
 },
 "nbformat": 4,
 "nbformat_minor": 2
}
