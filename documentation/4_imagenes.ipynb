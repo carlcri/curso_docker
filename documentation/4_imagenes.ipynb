{
 "cells": [
  {
   "attachments": {},
   "cell_type": "markdown",
   "metadata": {},
   "source": [
    "# Imagenes\n",
    "\n",
    "## Conceptos fundamentales de Docker: imágenes\n",
    "\n",
    "Son como docker intenta solucionar la construccion y distribucion de software. Las imagenes son plantillas que docker usa como insumo para crear contenedores.\n",
    "\n",
    "Una imagen es una pieza de software empaquetada,  de forma liviana que tiene todo lo necesario para que un contenedor pueda ejecutarse satisfactoriamente. \n",
    "\n",
    "La analogia con la POO es que la imagen es una clase y el contenedor una instancia de esa clase. \n",
    "\n",
    "    docker images\n",
    "\n",
    "![](https://i.imgur.com/fOFBESM.png)"
   ]
  },
  {
   "attachments": {},
   "cell_type": "markdown",
   "metadata": {},
   "source": [
    "Aqui estan las imagenes que hemos venido usando en el curso. La columna TAG es algo asi como la version de la imagen. Docker por defecto descarga la que tenga el tag *latest* a menos que se lo especifiquemos, como fue el caso con *mongo*\n",
    "\n",
    "### ¿De donde descarga DOcker las imagenes?\n",
    "\n",
    "De *docker hub*: https://hub.docker.com/\n",
    "\n",
    "Busquemos una imagen de Ubuntu\n",
    "\n",
    "![](https://i.imgur.com/SZ5j5DS.png)"
   ]
  },
  {
   "attachments": {},
   "cell_type": "markdown",
   "metadata": {},
   "source": [
    "Observa que la version 22.04 tiene el tag de **latest** asi como otros tambien. \n",
    "\n",
    "### Pull\n",
    "\n",
    "Vamos hacer el ejercicio de traer una version de ubuntu, pero que tenga otro tag.\n",
    "\n",
    "    sudo docker pull ubuntu:bionic \n",
    "\n",
    "![](https://i.imgur.com/Lo4cyFq.png)\n",
    "\n",
    "Y efectivamente, ya aparece:\n",
    "\n"
   ]
  },
  {
   "attachments": {},
   "cell_type": "markdown",
   "metadata": {},
   "source": [
    "## Construyendo una imagen propia\n",
    "\n",
    "El proceso de creacion de imagenes esta basado en un archivo llamado *Dockerfile*, el cual describe lo que pasa cuando se crea la imagen,  y en conjunto con el comando *build* se contruira una imagen. \n",
    "\n",
    "Crearemos un nuevo directorio, llamado *imagenes*, e ingresaremos al mismo:\n",
    "\n",
    "    mkdir imagenes\n",
    "    cd imagenes\n",
    "\n",
    "Crear un archivo *Dockerfile* dentro de imagenes:\n",
    "\n",
    "    FROM ubuntu:latest\n",
    "\n",
    "    RUN touch /usr/src/hola-platzi.txt\n",
    "\n",
    "Todos los *Dockerfile* comienzan con FROM, porque partimos de algo, en este caso de la imagen *ubuntu:latest* que se encuentra en nuestro disco.\n",
    "\n",
    "Y dado que tenemos un punto de partida, hagamos algo mas. Ese comando creara un nuevo archivo llamado *hola-platzi.txt*\n",
    "\n",
    "Este comando RUN se ejecutara en tiempo de *build*, es decir al momento de construir la imagen. El comando *build* con la opcion -t indica el tag, y para seguir la nomenclaura de docker, es decir una imagen de ubuntu, y su version. Y por ultimo, el contexto de *build*, es decir, a que parte del disco tiene acceso el proceso mientras se ejecuta y crea la imagen. De ahi el punto. de directorio actual. \n",
    "\n",
    "    docker build -t ubuntu:platzi .\n",
    "\n",
    "![](https://i.imgur.com/g90QTc4.png)\n",
    "\n",
    "\n"
   ]
  },
  {
   "attachments": {},
   "cell_type": "markdown",
   "metadata": {},
   "source": [
    "Cada instrucion que se coloque en el *Dockerfile* crear una nueva capa o layer. Verificamos que este:\n",
    "\n",
    "    docker images\n",
    "\n",
    "### Crear un nuevo contenedor con esa imagen y verificar que este el archivo hola-platzi.txt\n",
    "\n",
    "    sudo docker run --name osos -d ubuntu:platzi tail -f /dev/null\n",
    "\n",
    "    sudo docker exec -it osos bash\n",
    "\n",
    "Y efectivamente el archivo se encuentra en esta nuevo contenedor basado en la imagen:\n",
    "\n",
    "![](https://i.imgur.com/7FJ2eGB.png)\n"
   ]
  },
  {
   "attachments": {},
   "cell_type": "markdown",
   "metadata": {},
   "source": [
    "### Publicar imagen con push\n",
    "\n",
    "Lo primero es login desde la consola. Yo configure un token, y lo guarde, igualmente pude acceder.\n",
    "\n",
    "    docker login\n",
    "\n",
    "Entonces, lo primero es usar el comando *tag*:\n",
    "\n",
    "*carlcri/ubuntu:platzi* es la nomenclatura estandar de docker para mostrar quien es el dueño de esa imagen, que software contiene, y que version. \n",
    "\n",
    "    docker tag ubuntu:platzi carlcri/ubuntu:platzi\n",
    "\n",
    "![](https://i.imgur.com/wrqUi77.png)\n"
   ]
  },
  {
   "attachments": {},
   "cell_type": "markdown",
   "metadata": {},
   "source": [
    "\n",
    "Y comprobamos hay un nuevo tag, pero curiosamente no se esta usando mas espacio en disco, para poderlo publicar\n",
    "\n",
    "![](https://i.imgur.com/QgdTQKL.png)"
   ]
  },
  {
   "attachments": {},
   "cell_type": "markdown",
   "metadata": {},
   "source": [
    "Al agregar un nuevo tag a una imagen ya existente, no se esta creando una nueva imagen, sin ocupar mas espacio en disco.\n",
    "\n",
    "Y ahora el push:\n",
    "\n",
    "    sudo docker push carlcri/ubuntu:platzi\n",
    "\n",
    "Observo hay un nuevo repositorio con el nombre de la imagen, y tambien un tag\n",
    "\n",
    "![](https://i.imgur.com/Kv3OgJo.png)\n",
    "\n",
    "La imagen que acabamos de publicar son publicas, asi que hay que tener cuidado no publicar nada sensible"
   ]
  },
  {
   "attachments": {},
   "cell_type": "markdown",
   "metadata": {},
   "source": [
    "## El sistema de capas\n",
    "\n",
    "Iremos a *docker hub* y buscaremos el repositorio publico de ubuntu. Buscar la imagen de Ubuntu en Docker HUb, y examinemos el *DockerFile* de la version *latest*. Bueno por mas de que lo busque, no encontre el famoso docker file para ubuntu. 😞\n",
    "\n",
    "Igualmente, muetro la explicacion:\n",
    "\n",
    "Siempre se empieza de un *FROM*, y a medida que van corriendo otros comandos, como los que se muestran en rojo, se van creando capas\n",
    "\n",
    "![](https://i.imgur.com/nDSPJiC.png)\n"
   ]
  },
  {
   "attachments": {},
   "cell_type": "markdown",
   "metadata": {},
   "source": [
    "### Uso del comando history.\n",
    "\n",
    "Si estamos usando una imagen cuyo *docker file* no conocemos, se puede de esta manera:\n",
    "\n",
    "    docker history ubuntu:platzi \n",
    "\n",
    "![](https://i.imgur.com/2BiM32s.png)\n",
    "\n",
    "Se observa tenemos varias capas, e indicandonos cuanto pesa cada capa. Incluso, esta la instruccion que le colocamos anteriormente para crear un archivo. "
   ]
  },
  {
   "attachments": {},
   "cell_type": "markdown",
   "metadata": {},
   "source": [
    "Sin embargo, es un poco dificil interpretar la salida del comando anterior, por lo que hay otra herramienta.\n",
    "\n",
    "### dive\n",
    "\n",
    "https://github.com/wagoodman/dive\n",
    "\n",
    "Illendo al repositorio, la instalaremos:\n",
    "\n",
    "    wget https://github.com/wagoodman/dive/releases/download/v0.9.2/dive_0.9.2_linux_amd64.deb\n",
    "    sudo apt install ./dive_0.9.2_linux_amd64.deb\n",
    "\n",
    "Y una vez instalada, analizamos una imagen en particular\n",
    "\n",
    "    sudo dive ubuntu:platzi\n",
    "\n",
    "![](https://i.imgur.com/zEa5nUr.png)\n",
    "\n",
    "Para movernos a la derecha con TAB, y para regresar con TAB, "
   ]
  },
  {
   "attachments": {},
   "cell_type": "markdown",
   "metadata": {},
   "source": [
    "### ¿Sera posible modificar una capa creada anteriormente?\n",
    "\n",
    "Crearemos una nueva capa, modificando el *docker file*, borrando el archivo creamos anteriormente :\n",
    "\n",
    "    RUN rm /usr/src/hola-platzi.txt\n",
    "\n",
    "Ahora ejecutemos *docker build*, con el, mismo tag. Recuerda ejecutarlo estando en el folder *imagenes*\n",
    "\n",
    "    sudo docker build -t ubuntu:platzi .\n",
    "\n",
    "Y analizemos, nuevamente con *dive*:\n",
    "\n",
    "    dive ubuntu:platzi\n",
    "\n",
    "Mira que la capa anteriormente creada, no la modifico, creo una nueva. "
   ]
  },
  {
   "attachments": {},
   "cell_type": "markdown",
   "metadata": {},
   "source": [
    "#### Conclusion\n",
    "\n",
    "![](https://i.imgur.com/KxAsGI2.png)\n",
    "\n",
    "Las capas son el corazon de las imagenes, una imagen simplemente es un nombre que apunta a una capa, y asi sucesivamente.\n",
    "\n",
    "Las capas son inmutables, y cuando borramos un archivo que creamos en una capa anterior, en realidad esas dos capas existen, y desperdiciamos espacio. \n",
    "\n",
    "Cuando creamos un contenedo a partir de una imagen, tenemos acceso a la ultima capa de dicha imagen. Todos los cambios que hagamos sobre el contenedor, se haran en una capa, pero mutable, que se puede cambiar. \n",
    "\n",
    "Importante, las capas de la imagen no pueden ser cambiadas ni por el contenedor, no por nosotros mismos una vez las hallamos creado. \n",
    "\n",
    "Hay una forma de persistir esta capa mutable, que no se usa mucho, y es con comando *commit*"
   ]
  }
 ],
 "metadata": {
  "language_info": {
   "name": "python"
  },
  "orig_nbformat": 4
 },
 "nbformat": 4,
 "nbformat_minor": 2
}
