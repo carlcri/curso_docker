{
 "cells": [
  {
   "attachments": {},
   "cell_type": "markdown",
   "metadata": {},
   "source": [
    "# LABS\n",
    "\n",
    "## Hot to dockerize a Python Script\n",
    "\n",
    "https://medium.com/geekculture/how-to-dockerize-a-python-script-b0af3cd11fb0\n",
    "\n",
    "Simplemente del Curso de Creacion de un CRUD, para ejecutar el Script basico llamado. *main.py*\n",
    "\n",
    "Aqui el DockerFile:\n",
    "\n",
    "- Usando una distribucion de Linux muy lijera: Small. Simple. Secure. Alpine Linux is a security-oriented, lightweight Linux distribution based on musl libc and busybox.\n",
    "\n",
    "![](https://i.imgur.com/Fq3BaK3.png)\n",
    "\n",
    "\n"
   ]
  },
  {
   "attachments": {},
   "cell_type": "markdown",
   "metadata": {},
   "source": [
    "Y asi se creo la imagen:\n",
    "\n",
    "    docker build -t mycrud . \n",
    "\n",
    "Y corriendo el contenedor \n",
    "\n",
    "    docker run -it --rm mycrud\n",
    "\n",
    "Mejor correrlo con un proceso fantasma\n",
    "\n",
    "    docker run --rm -d  mycrud tail -f /dev/null\n",
    "\n",
    "Y despues ejecutar una *sh shell* alpine no tiene bash\n",
    "\n",
    "    docker exec -it priceless_sinoussi sh \n"
   ]
  }
 ],
 "metadata": {
  "language_info": {
   "name": "python"
  },
  "orig_nbformat": 4
 },
 "nbformat": 4,
 "nbformat_minor": 2
}
