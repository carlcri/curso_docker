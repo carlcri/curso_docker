{
 "cells": [
  {
   "attachments": {},
   "cell_type": "markdown",
   "metadata": {},
   "source": [
    "# LABS\n",
    "\n",
    "## Hot to dockerize a Python Script\n",
    "\n",
    "https://medium.com/geekculture/how-to-dockerize-a-python-script-b0af3cd11fb0\n",
    "\n",
    "Simplemente del Curso de Creacion de un CRUD, para ejecutar el Script basico llamado. *main.py*\n",
    "\n",
    "Aqui el DockerFile:\n",
    "\n",
    "- Usando una distribucion de Linux muy lijera: Small. Simple. Secure. Alpine Linux is a security-oriented, lightweight Linux distribution based on musl libc and busybox.\n",
    "\n",
    "![](https://i.imgur.com/Fq3BaK3.png)\n",
    "\n",
    "\n"
   ]
  },
  {
   "attachments": {},
   "cell_type": "markdown",
   "metadata": {},
   "source": [
    "Y asi se creo la imagen:\n",
    "\n",
    "    docker build -t mycrud . \n",
    "\n",
    "Y corriendo el contenedor \n",
    "\n",
    "    docker run -it --rm mycrud\n",
    "\n",
    "Mejor correrlo con un proceso fantasma\n",
    "\n",
    "    docker run --rm -d  mycrud tail -f /dev/null\n",
    "\n",
    "Y despues ejecutar una *sh shell* alpine no tiene bash\n",
    "\n",
    "    docker exec -it priceless_sinoussi sh \n"
   ]
  },
  {
   "attachments": {},
   "cell_type": "markdown",
   "metadata": {},
   "source": [
    "## Dockerize a CLICK Script\n",
    "\n",
    "Del curso de creacion de un CRUD, donde se usa click para crear una interfax de linea de comandos, ya se tienen implementadas casi todas las funciones.\n",
    "\n",
    "- Reorganizar el Dockerfile para tomar ventaja del cache de imagenes:\n",
    "\n",
    "![](https://i.imgur.com/08TAVPX.png)"
   ]
  },
  {
   "attachments": {},
   "cell_type": "markdown",
   "metadata": {},
   "source": [
    "Note la ausencia de un CMD, porque intente:\n",
    "\n",
    "    CMD [\"pv --help\"] creo genero error\n",
    "    ENTRYPOINT pv \n",
    "    RUN pv --help \n",
    "\n",
    "ENTRYPOINT y RUN no mostraron nada cuando se crearon los containers. Se continuo con el proceso.\n",
    "\n",
    "Y se ejecuto el build:\n",
    "\n",
    "![](https://i.imgur.com/VuNh9KI.png)\n"
   ]
  },
  {
   "attachments": {},
   "cell_type": "markdown",
   "metadata": {},
   "source": [
    "Y creo el container, que me muestra inmediatamente una shell:\n",
    "\n",
    "    docker run -it --rm mycrud\n",
    "\n",
    "Y compruebo la utilidad pv esta corriento:\n",
    "\n",
    "    pv clients --help\n",
    "\n",
    "![](https://i.imgur.com/MUv6xIX.png)"
   ]
  }
 ],
 "metadata": {
  "language_info": {
   "name": "python"
  },
  "orig_nbformat": 4
 },
 "nbformat": 4,
 "nbformat_minor": 2
}
