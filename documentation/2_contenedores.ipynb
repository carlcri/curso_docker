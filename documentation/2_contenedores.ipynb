{
 "cells": [
  {
   "attachments": {},
   "cell_type": "markdown",
   "metadata": {},
   "source": [
    "## Primeros pasos: hola mundo\n",
    "\n",
    "correremos un contenedor llamado *hello-world*\n",
    "\n",
    "    sudo docker run hello-world\n",
    "\n",
    "En un primer momento no es posible localizarlo localmente, asi que docker intentara encontrarla en el repositorio publico de imagenes, llamado *docker hub*\n",
    "\n",
    "![](https://i.imgur.com/C0Oz138.png)\n",
    "\n",
    "Excelente, acabaste de correr tu primer contenedor de docker, el cual se ejecuto, y luego termino. \n"
   ]
  },
  {
   "attachments": {},
   "cell_type": "markdown",
   "metadata": {},
   "source": [
    "## Conceptos fundamentales de Docker: contenedores\n",
    "\n",
    "El Contenedor es el concepto mas importante. COmenzemos por recordar las VMs, un contenedor podria ser una VM liviana.\n",
    "\n",
    "Una VM es un programa que corre por ejemplo en nuestra maquina, pero tiene su propia memoria, su propio SO.\n",
    "\n",
    "Un Contenedor en cambio es una agrupacion de procesos, que corren nativamente en la maquina pero estan aislados del resto del sistema. Un contenedor es una agrupacion logica. "
   ]
  },
  {
   "attachments": {},
   "cell_type": "markdown",
   "metadata": {},
   "source": [
    "## Comprendiendo el estado de Docker\n",
    "\n",
    "Para ver que contenedores estan corriendo, le pedimos al daemon que nos lo muestre, entonces por ejemplo, la primera parte de este comando, la palabra *docker* es el cliente:\n",
    "\n",
    "    docker ps\n",
    "\n",
    "![](https://i.imgur.com/leVna9e.png)\n",
    "\n",
    "Porque ahora estaba en el curso de MongoDB. Este comando solo muestra los contenedores activos. \n",
    "\n",
    "Si queremos que nos muestre todos los contenedores, a ver si vemos algo interesante\n",
    "\n",
    "![](https://i.imgur.com/jMYB4Qy.png)\n",
    "\n",
    "Entonces cada vez que hacemos *dcoker run* estamos corriendo un nuevo contenedor, no utilizando una que ya habia, para el caso de *hello world*.\n",
    "\n",
    "Si queremos mas informacion sobre un contenedor en particular:\n",
    "\n",
    "    sudo docker inspect 30a692f6c1c8 \n",
    "\n",
    "Y nos va a dar un huevo de informacion, que por ahora no es relevante. \n",
    "\n",
    " ¿QUe es esa columna de names?\n",
    "\n",
    "De igual forma sirve para referirse al contenedor de manera amigable, y los names los asigna automaticamente.\n",
    "\n",
    "    sudo docker inspect infallible_hellman \n",
    "\n",
    "Si ahora por ejemplo, queremos crear un nuevo contenedor, pero esta vez asignandole un nuevo nombre, como *hello-platzi*\n",
    "\n",
    "    sudo docker run --name hello-platzi hello-world\n",
    "\n",
    "Y volvemos a mostrar todo\n",
    "\n",
    "![](https://i.imgur.com/JjSfitR.png)\n",
    "\n",
    "\n"
   ]
  },
  {
   "attachments": {},
   "cell_type": "markdown",
   "metadata": {},
   "source": [
    "Observamos que la imagen es la misma, pero el nombre es ahora el que le asignamos.\n",
    "\n",
    "Si volvemos a correr el comando anterior, nos dara un error, por lo que tambien es buena idea saber como renombrar los contenedores:\n",
    "\n",
    "    \"docker: Error response from daemon: Conflict. The container name \"/hello-platzi\" is already in use by container \"e74063c777870a10c5d62e6ae8b3e3b23c2201d6c799094a99649d27ab29def4\". You have to remove (or rename) that container to be able to reuse that name\"\n",
    "\n",
    "A medida que vamos trabajando se van llenando de mucha informacion, por lo que podemos borrar los contenedores. Usaremos el nombre para removerlos.\n",
    "\n",
    "    sudo docker rm hello-platzi\n",
    "\n",
    "Para borrar todos los contenedores parados:\n",
    "\n",
    "    sudo docker container prune \n"
   ]
  },
  {
   "attachments": {},
   "cell_type": "markdown",
   "metadata": {},
   "source": [
    "## El modo interactivo"
   ]
  }
 ],
 "metadata": {
  "language_info": {
   "name": "python"
  },
  "orig_nbformat": 4
 },
 "nbformat": 4,
 "nbformat_minor": 2
}
