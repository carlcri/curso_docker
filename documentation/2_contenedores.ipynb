{
 "cells": [
  {
   "attachments": {},
   "cell_type": "markdown",
   "metadata": {},
   "source": [
    "## Primeros pasos: hola mundo\n",
    "\n",
    "correremos un contenedor llamado *hello-world*\n",
    "\n",
    "    sudo docker run hello-world\n",
    "\n",
    "En un primer momento no es posible localizarlo localmente, asi que docker intentara encontrarla en el repositorio publico de imagenes, llamado *docker hub*\n",
    "\n",
    "![](https://i.imgur.com/C0Oz138.png)\n",
    "\n",
    "Excelente, acabaste de correr tu primer contenedor de docker, el cual se ejecuto, y luego termino. \n"
   ]
  },
  {
   "attachments": {},
   "cell_type": "markdown",
   "metadata": {},
   "source": [
    "## Conceptos fundamentales de Docker: contenedores\n",
    "\n",
    "El Contenedor es el concepto mas importante. COmenzemos por recordar las VMs, un contenedor podria ser una VM liviana.\n",
    "\n",
    "Una VM es un programa que corre por ejemplo en nuestra maquina, pero tiene su propia memoria, su propio SO.\n",
    "\n",
    "Un Contenedor en cambio es una agrupacion de procesos, que corren nativamente en la maquina pero estan aislados del resto del sistema. Un contenedor es una agrupacion logica. "
   ]
  },
  {
   "attachments": {},
   "cell_type": "markdown",
   "metadata": {},
   "source": [
    "## Comprendiendo el estado de Docker\n",
    "\n",
    "Para ver que contenedores estan corriendo, le pedimos al daemon que nos lo muestre, entonces por ejemplo, la primera parte de este comando, la palabra *docker* es el cliente:\n",
    "\n",
    "    docker ps\n",
    "\n",
    "![](https://i.imgur.com/leVna9e.png)\n",
    "\n",
    "Porque ahora estaba en el curso de MongoDB. Este comando solo muestra los contenedores activos. \n",
    "\n",
    "Si queremos que nos muestre todos los contenedores, a ver si vemos algo interesante\n",
    "\n",
    "![](https://i.imgur.com/jMYB4Qy.png)\n",
    "\n",
    "Entonces cada vez que hacemos *docker run* estamos corriendo un nuevo contenedor, no utilizando una que ya habia, para el caso de *hello world*.\n",
    "\n",
    "Si queremos mas informacion sobre un contenedor en particular:\n",
    "\n",
    "    sudo docker inspect 30a692f6c1c8 \n",
    "\n",
    "Y nos va a dar un huevo de informacion, que por ahora no es relevante. \n",
    "\n",
    " ¿QUe es esa columna de names?\n",
    "\n",
    "De igual forma sirve para referirse al contenedor de manera amigable, y los names los asigna automaticamente.\n",
    "\n",
    "    sudo docker inspect infallible_hellman \n",
    "\n",
    "Si ahora por ejemplo, queremos crear un nuevo contenedor, pero esta vez asignandole un nuevo nombre, como *hello-platzi*\n",
    "\n",
    "    sudo docker run --name hello-platzi hello-world\n",
    "\n",
    "Y volvemos a mostrar todo. \n",
    "\n",
    "![](https://i.imgur.com/JjSfitR.png)\n",
    "\n",
    "\n"
   ]
  },
  {
   "attachments": {},
   "cell_type": "markdown",
   "metadata": {},
   "source": [
    "Observamos que la imagen es la misma, pero el nombre es ahora el que le asignamos.\n",
    "\n",
    "Si volvemos a correr el comando anterior, nos dara un error, por lo que tambien es buena idea saber como renombrar los contenedores:\n",
    "\n",
    "    \"docker: Error response from daemon: Conflict. The container name \"/hello-platzi\" is already in use by container \"e74063c777870a10c5d62e6ae8b3e3b23c2201d6c799094a99649d27ab29def4\". You have to remove (or rename) that container to be able to reuse that name\"\n",
    "\n",
    "A medida que vamos trabajando se van llenando de mucha informacion, por lo que podemos borrar los contenedores. Usaremos el nombre para removerlos.\n",
    "\n",
    "    sudo docker rm hello-platzi\n",
    "\n",
    "Para borrar todos los contenedores parados:\n",
    "\n",
    "    sudo docker container prune \n"
   ]
  },
  {
   "attachments": {},
   "cell_type": "markdown",
   "metadata": {},
   "source": [
    "## El modo interactivo\n",
    "\n",
    "Corre un Linux Ubuntu entero dentro de tu PC y de una manera muy facil\n",
    "\n",
    "    docker run ubuntu  \n",
    "\n",
    "![](https://i.imgur.com/JEAgPhq.png)"
   ]
  },
  {
   "attachments": {},
   "cell_type": "markdown",
   "metadata": {},
   "source": [
    "Y aparentemente no paso nada... pero\n",
    "\n",
    "    sudo docker ps -a\n",
    "\n",
    "![](https://i.imgur.com/5CafSuk.png)\n",
    "\n"
   ]
  },
  {
   "attachments": {},
   "cell_type": "markdown",
   "metadata": {},
   "source": [
    "Observamos que el *STATUS* es apagado, *exited*. ¿Porque? Mira la columna de *COMMAND*, este es el proceso que corre el contenedor al arrancar. Ahora volvamos a mirar la columna *STATUS*, en Linux todo proceso al terminar devuelve un codigo de salida, en este caso un 0, que significa todo sale bien, y si es distinto de cero, significa hubo un problema.\n",
    "\n",
    "Ahora el contenedor esta apagado, porque el comando */bin/bash* termino. Entonces sabemos que es un Shell, la shell bash, pero como no tiene ningun comando, arranca y como no tiene nada que hacer, pues se apaga.\n",
    "\n",
    "Volvemos a correr el comando, pero en modo iteractivo(it), \n",
    "\n",
    "    sudo docker run -it ubuntu\n",
    "\n",
    "Y, ahora si cambia el prompt 😀\n",
    "\n",
    "    root@5bd581a79e8c:/#\n",
    "\n",
    "¿Pero que es todo esto? Veamos la distribucion de Linux que estamos usando:\n",
    "\n",
    "    cat etc/lsb-release\n",
    "\n",
    "Y el resultado es que es una distribucion de Ubuntu 22.04.2\n",
    "\n",
    "    DISTRIB_ID=Ubuntu\n",
    "    DISTRIB_RELEASE=22.04\n",
    "    DISTRIB_CODENAME=jammy\n",
    "    DISTRIB_DESCRIPTION=\"Ubuntu 22.04.2 LTS\"\n",
    "\n",
    "Si volvemos a correr en otra terminal el comando *docker ps*\n",
    "\n",
    "    CONTAINER ID   IMAGE     COMMAND       CREATED         STATUS         PORTS     NAMES\n",
    "    5bd581a79e8c   ubuntu    \"/bin/bash\"   7 minutes ago   Up 7 minutes             wizardly_babbage\n",
    "\n",
    "Ahora si me muestra esta activo\n",
    "\n",
    "\n",
    "\n"
   ]
  },
  {
   "attachments": {},
   "cell_type": "markdown",
   "metadata": {},
   "source": [
    "### Ejercicio \n",
    "\n",
    "Correr una distribucion de Linux en tu maquina, puede ser *Debian*\n",
    "\n",
    "    sudo docker run debian\n",
    "    \n",
    "Efectivamente, descargo la imagen, y no hizo nada como se esperaba. Sigue:\n",
    "\n",
    "    sudo docker ps -a\n",
    "\n",
    "![](https://i.imgur.com/HxPyz0Y.png)"
   ]
  },
  {
   "attachments": {},
   "cell_type": "markdown",
   "metadata": {},
   "source": [
    "Efectivamente hay un container asociado a la distribucion *Debian*. Y ahora, ponerlo en modo iteractivo:\n",
    "\n",
    "    sudo docker run -it debian\n",
    "\n",
    "Y verificando:\n",
    "\n",
    "    cat etc/issue\n",
    "\n",
    "Debian GNU/Linux 11 \\n \\l\n",
    "\n",
    "\n"
   ]
  },
  {
   "attachments": {},
   "cell_type": "markdown",
   "metadata": {},
   "source": [
    "## Ciclo de vida de un contenedor\n",
    "\n",
    "Si volvemos a ejecutar el comando, *docker ps -a*, observamos por ejemplo el contenedor *wizardly baggage* que contine una imagen de Ubuntu, sali hace 8 minutos. Cuando estabamos ejecutando dicho contenedor, se ejecuto el comando *bin/bash*, que es el proceso principal del contenedor\n",
    "\n",
    "Lo que hay que entender es que cada vez que se ejecuta un contenedor se ejecuta un proceso del SO. Entonces un contedor corre por defecto mientras su proceso principal este corriendo. \n",
    "\n",
    "Al hacer *exit* apagamos el proceso principal, y el contenedor se apago. \n",
    "\n",
    "Es importante entender porque cuando el *proceso principal* asociado a ese contenedor se detiene o falla, ese contenedor tambien se va a detener. \n",
    "\n",
    "### ¿Que pasaria si quiero correr un contenedor de Ubuntu pero que no se apague automaticamente?\n",
    "\n",
    "ya habiamos visto esto era posible usando el modo iteractivo, pero tal vez esto no es exactamente lo que buscamos.\n",
    "\n",
    "Entonces tal y como lo hizimos en la seccion de *Comprendiendo el estado de docker* donde creamos un nuevo contenedor llamado *hello-platzi* a partir de la imagen de *hello-world*\n",
    "\n",
    "    sudo docker run --name hello-platzi hello-world\n",
    "\n",
    "Vamos hacer algo similar, agregando la opcion *--detach* o *-d* segun tu preferencia, y le agregaremos el comando que queremos corra, en este caso *tail -f /dev/null*\n",
    "\n",
    "    sudo docker run --name alwaysup --detach ubuntu tail -f /dev/null \n",
    "\n",
    "![](https://i.imgur.com/x06l3A0.png)\n",
    "\n",
    "    \n",
    "\n"
   ]
  },
  {
   "attachments": {},
   "cell_type": "markdown",
   "metadata": {},
   "source": [
    "Esa cadena que retorna despues del comando, es el *id* del contenedor, y observamos que efectivamente esta corriendo.\n",
    "\n",
    "\n",
    "*tail -f /dev/null* es uan aperacion que no hace nada, pero igualmente se queda prendida. Observa la columna COMMAND y veras es el mismo proceso.\n"
   ]
  },
  {
   "attachments": {},
   "cell_type": "markdown",
   "metadata": {},
   "source": [
    "### Comando EXEC\n",
    "\n",
    "Si efectivamente el proceso esta corriendo, pero no puedo hacer nada con el, necesitariamos conectarnos para hacer algo, ¿y como? con *docker exec*\n",
    "\n",
    "*exec* nos permite en un contenedor que esta corriendo, ejecutar un comando o proceso. A continuacion correremos en modo iteractivo un *shell* (bash)\n",
    "\n",
    "    sudo docker exec -it alwaysup bash\n",
    "\n",
    "E inmediatamnte vemos que aparece el *shell*\n",
    "\n",
    "    root@c862e3060c25:/#\n",
    "\n",
    "Lo que hay que entender es que este no es el proceso principal. Si ejecutamos el comando *ps* dentro del shell, observamos dos procesos el *ps* como es natural, y el *bash*\n",
    "\n",
    "![](https://i.imgur.com/QdbnRXD.png)"
   ]
  },
  {
   "attachments": {},
   "cell_type": "markdown",
   "metadata": {},
   "source": [
    "Si volvemos a ejecutar *ps* con la opcion *aux* veremos todo lo que esta ocurriendo dentro del contenedor. Y efectivamente, ya obsevamos el proceso principal\n",
    "\n",
    "![](https://i.imgur.com/YtN5q3c.png)\n",
    "\n",
    "Observa la columna PID(process ID) donde el proces principal es el 1"
   ]
  },
  {
   "attachments": {},
   "cell_type": "markdown",
   "metadata": {},
   "source": [
    "Si nosotros ejecutamos un *exit* y salimos del *bash*, el contenedor seguira corriendo, porque el proceso principal sigue corriendo.\n",
    "\n",
    "### Como se detiene o mata el proceso principal.\n",
    "\n",
    "Y de esta forma detener el contenedor. ¿Cual es el process ID del *tail -f* en mi maquina?\n",
    "\n",
    "Inspeccionando el contenedor, pero para que no nos muestre todo ese chorrero de informacion, filtramos:\n",
    "\n",
    "    sudo docker inspect --format '{{.State.Pid}}' alwaysup\n",
    "\n",
    "Y nos retorna un numero de proceso: 18018\n",
    "\n",
    "Le damos:\n",
    "\n",
    "    sudo kill -9 18018\n",
    "\n",
    "\n",
    "\n",
    "Tambien puedes matar directamente el contenedor con este comando\n",
    "\n",
    "    sudo docker kill alwaysup \n",
    "\n",
    "Y ahora si 😀. Pruebalo si quieres en Docker Lab. \n",
    "\n",
    "La diferencia entre docker kill y kill, es que con el primero se mata el contenedor, y con el segundo se mata el proceso principal, para demostra que parando este ultimo, se detiene el contenedor. \n",
    "\n"
   ]
  },
  {
   "attachments": {},
   "cell_type": "markdown",
   "metadata": {},
   "source": [
    "## Exponiendo un COntenedor"
   ]
  }
 ],
 "metadata": {
  "language_info": {
   "name": "python"
  },
  "orig_nbformat": 4
 },
 "nbformat": 4,
 "nbformat_minor": 2
}
