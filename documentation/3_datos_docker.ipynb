{
 "cells": [
  {
   "attachments": {},
   "cell_type": "markdown",
   "metadata": {},
   "source": [
    "# Datos en Docker"
   ]
  },
  {
   "attachments": {},
   "cell_type": "markdown",
   "metadata": {},
   "source": [
    "## Bind mounts\n",
    "\n",
    "Los contenedores son entidades autocontenidas que no pueden acceder por defecto al SO de la maquina que los esta ejecutando, de hecho ellos no saben que estan dentro de una maquina desde el punto de vista del contenedor.\n",
    "\n",
    "Sin embargo muchas veces, es necesario guardar los datos del contenedor, para usarlos en otros procesos. \n",
    "\n",
    "Crearemos un nuevo folder llamado *myDockerData*\n",
    "\n",
    "Para esta practica crearemos un container basado MongoDB:\n",
    "\n",
    "    sudo docker run --name myMongoPlatzi --detach mongo:5.0\n",
    "\n",
    "Hubiera podido colocar solo *mongo* al final pero como ya tenia una imagen guardada, para hacerlo mas rapido, baso mi nuevo conteneder en la existente.\n",
    "\n",
    "Verifico este corriendo:\n",
    "\n",
    "    sudo docker ps\n",
    "\n",
    "Para generar algunso datos dentro del contenedor, primero executamos una terminal:\n",
    "\n",
    "    sudo docker exec -it  myMongoPlatzi bash\n",
    "\n",
    "El prompt cambia, indicando podemos ejecutar comandos dentro del contenedor:\n",
    "\n",
    "    root@4e10d97111ad:/#\n",
    "\n",
    "Este contenedor viene con un binario que es el cliente de la base de datos, \n",
    "\n",
    "    mongo\n",
    "\n",
    "Tambien puedo usar *mongosh* como es constumbre en el curso de MongoDB\n",
    "\n",
    "    mongosh\n"
   ]
  },
  {
   "attachments": {},
   "cell_type": "markdown",
   "metadata": {},
   "source": [
    "Y ahora, algunso comandos de Mongo para crear una base de datos, la coleccion y almenos un documento.\n",
    "\n",
    "    use platzi\n",
    "    db.user.insert({ name: \"rodrigo\", age: 30 })\n",
    "\n",
    "Verificando este creado:\n",
    "\n",
    "    db.user.insert({ name: \"rodrigo\", age: 30 })\n",
    "\n",
    "Sin embargo, cuando paremos el contenedor, y cuando lo borremos, perderemos la informacion. 😞"
   ]
  },
  {
   "attachments": {},
   "cell_type": "markdown",
   "metadata": {},
   "source": [
    "### Creando el bind mount\n",
    "\n",
    "Una forma de no perder la informacion, es tener un directorio en mi maquina que tenga una version espejada de lo que ocurre en el contenedor. Para hacer esto haremos un *bind mount*\n",
    "\n",
    "Borremos el contenedor y creemos uno nuevo con el mismo nombre:\n",
    "\n",
    "    sudo docker rm myMongoPlatzi\n",
    "\n",
    "\n",
    "con *-v* o *--volume* le indicamos que queremos hacer un *bind mount*. Mongo guarda los datos en **/data/db**. Entonces iria asi \n",
    "\n",
    "**--volume (ruta local):(ruta a copiar)**\n",
    "\n",
    "    docker run -d --name myMongoPlatzi --volume /home/carlos/Documents/curso_docker/myDockerData:/data/db mongo:5.0"
   ]
  },
  {
   "attachments": {},
   "cell_type": "markdown",
   "metadata": {},
   "source": [
    "De igual manera, volvemos a crear los datos nuevamente\n",
    "\n",
    "    mongosh\n",
    "\n",
    "    use platzi\n",
    "\n",
    "    db.users.insertMany([{ name: \"gustavo\", age: 31}, { name: \"rodrigo\", age:19 }])\n",
    "\n",
    "    db.users.find()\n",
    "\n",
    "Salgamos, y borremos el contenedor totalmente\n",
    "\n",
    "    sudo docker rm -f myMongoPlatzi\n",
    "\n",
    "Observemos que la carpeta *myDockerData* tiene nueva informacion:\n",
    "\n",
    "![](https://i.imgur.com/cTrq831.png)\n"
   ]
  },
  {
   "attachments": {},
   "cell_type": "markdown",
   "metadata": {},
   "source": [
    "### Recuperando los datos\n",
    "\n",
    "Volvamos a crear un nuevo contenedor con el nombre *osito*, teniendo en cuenta de montar el directorio, que ya tiene nueva informacion:\n",
    "\n",
    "    docker run -d --name osito --volume /home/carlos/Documents/curso_docker/myDockerData:/data/db mongo:5.0\n",
    "\n",
    "Y efectivamente al hacer todo el procedimiento, y mirar con el querry:\n",
    "\n",
    "    use platzi\n",
    "    db.users.find()\n",
    "\n",
    "Y estaran los datos tal y como los habia guardado 😊😊\n"
   ]
  },
  {
   "attachments": {},
   "cell_type": "markdown",
   "metadata": {},
   "source": [
    "Esta es una manera muy practica de compartir los datos de mi disco hacia el contenedor, sin embargo esto tiene un riesgo, al darle acceso irrestrico de una parte del disco al contenedor, pero no es la practica mas segura.  "
   ]
  },
  {
   "attachments": {},
   "cell_type": "markdown",
   "metadata": {},
   "source": [
    "## Volumenes\n",
    "\n",
    "Son una evolucion de con respecto a los *bind mounts* con respecto a la seguridad en entornos productivos.\n",
    "\n",
    "    sudo docker volume ls \n",
    "\n",
    "Veras la gran cantidad de volumenes que ya existina sin siquiera saberlo.\n",
    "\n",
    "A continucion crearemos uno en particular:\n",
    "\n",
    "    docker volume create dbdata\n",
    "\n",
    "Y efectivamente aparece\n",
    "\n",
    "![](https://i.imgur.com/Y1qgFRp.png)\n",
    "\n"
   ]
  },
  {
   "attachments": {},
   "cell_type": "markdown",
   "metadata": {},
   "source": [
    "Entonces docker ya reservo un espacio en el disko para ese volumen. De la misma forma que hizimos anteriormente, en un nuevo contenedor le montamos el nuevo volumen. La operacion se hara con *mount*.\n",
    "\n",
    "- src: fuente: dbdata\n",
    "- dst: destino: /data/db\n",
    "\n",
    "Con *mount src* en caso de que el volumen no existies, Docker lo crearia en ese momento\n",
    "\n",
    "    docker run --name myMongo -d --mount src=dbdata,dst=/data/db mongo:5.0\n",
    "\n",
    "Efectivamente lo creo. Usemos *inspect* sobre el contenedor para obtener informacion mas especifica:\n",
    "\n",
    "    docker inspect myMongo \n",
    "\n",
    "![](https://i.imgur.com/bj58gdO.png)"
   ]
  },
  {
   "attachments": {},
   "cell_type": "markdown",
   "metadata": {},
   "source": [
    "\n",
    "Se esta trabajando para que solo muestre informacion relevante, hasta ahora solo he podido hacer esto.\n",
    "\n",
    "    docker inspect --format '{{.Config.Hostname}}' myMongo | less "
   ]
  },
  {
   "attachments": {},
   "cell_type": "markdown",
   "metadata": {},
   "source": [
    "### Ingresando al contenedor\n",
    "\n",
    "Y crear una base de datos como se hizo anteriormente. y una vez creada remover el contenedor\n",
    "\n",
    "    docker rm -f myMongo\n",
    "\n",
    "Sin embargo, al volver a mostrar los volumenes, el volumen *dbdata* sigue existiendo. \n",
    "\n",
    "Crea un nuevo contenedor, y montale el mismo volumen.\n",
    "\n",
    "    sudo docker run --name osito -d --mount src=dbdata,dst=/data/db mongo:5.0\n",
    "\n",
    "Verificando que la informacion este en el volumen ✅"
   ]
  },
  {
   "attachments": {},
   "cell_type": "markdown",
   "metadata": {},
   "source": [
    "## Insertar y extraer archivos de un contenedor\n",
    "\n",
    "Aprenderemos como manualmente extraer o insertar archivos en un contenedor independientemente si se usa *bind mounts* o volumenes.\n",
    "\n",
    "Crearemos un archivo llamado *prueba.txt*.\n",
    "\n",
    "Y corramos un nuevo contenedor con un proceso:\n",
    "\n",
    "    sudo docker run --name alwaysup --detach ubuntu tail -f /dev/null\n",
    "\n",
    "Y abramos un terminal dentro del contenedor\n",
    "\n",
    "    sudo docker exec -it alwaysup bash\n",
    "\n",
    "Y dentro de ese contenedor crear un folder llamado *testing*\n",
    "\n",
    "    mkdir testing\n",
    "\n",
    "### Copiar dentro del contenedor en la carpèta testing el archivo prueba\n",
    "\n",
    "Salgamos del bash del contenedor con exit, para volver a la terminal local\n",
    "\n",
    "    sudo docker cp prueba.txt alwaysup:/testing/prueba.txt\n",
    "\n",
    "Donde *alwaysup* es el nombre del contenedor\n",
    "\n",
    "![](https://i.imgur.com/Exf6nzC.png)\n"
   ]
  },
  {
   "attachments": {},
   "cell_type": "markdown",
   "metadata": {},
   "source": [
    "Volvamos a ejecutar una terminal dentro del contenedor, y verificar que el archivo existe. ✅"
   ]
  },
  {
   "attachments": {},
   "cell_type": "markdown",
   "metadata": {},
   "source": [
    "### Copiando un archivo de un contenedor a mi entorno local\n",
    "\n",
    "Con el mismo archivo. Cerremos el modo iteractivo con exit\n",
    "\n",
    "    sudo docker cp alwaysup:/testing/prueba.txt ./local.txt\n",
    "\n",
    "Y va a salir:\n",
    "\n",
    "    Successfully copied 2.048kB to /home/carlos/Documents/curso_docker/local.txt ✅\n",
    "\n",
    "Importante saber que el contenedor no necesariamente tiene que estar corriendo para realizar la operacion de copia\n"
   ]
  },
  {
   "attachments": {},
   "cell_type": "markdown",
   "metadata": {},
   "source": [
    "### Datos en Docker\n",
    "\n",
    "![](https://i.imgur.com/9YPoMhY.png)\n",
    "\n",
    "La imagen muestra mi maquina local que contiene un contenedor, donde este ultimo tiene dos formas de acceder al sistema de archivos:\n",
    "\n",
    "- bind mount\n",
    "- volume\n",
    "\n",
    "La gran diferencia entre las dos es que la primera se vincula directamente el sitema de archivos con el contenedor y el acceso es irrestricto. \n",
    "\n",
    "Por otro lado Volume es casi lo mismo, solo que el area del *filesystem* que ese contenedor esta manejando, es manejada por Docker, y no es tan facil accederla. Aunque mejora la seguridad\n",
    "\n",
    "Por otro lado esta el *temporaly file systmem mount*(tmpfs mount), que es comoda para escribir archivos temporales, pero que no nos interesa consevar una vez el contenedor deaparezca"
   ]
  }
 ],
 "metadata": {
  "language_info": {
   "name": "python"
  },
  "orig_nbformat": 4
 },
 "nbformat": 4,
 "nbformat_minor": 2
}
