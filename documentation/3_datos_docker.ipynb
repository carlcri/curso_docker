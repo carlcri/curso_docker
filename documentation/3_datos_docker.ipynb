{
 "cells": [
  {
   "attachments": {},
   "cell_type": "markdown",
   "metadata": {},
   "source": [
    "# Datos en Docker"
   ]
  },
  {
   "attachments": {},
   "cell_type": "markdown",
   "metadata": {},
   "source": [
    "## Bind mounts\n",
    "\n",
    "Los contenedores son entidades autocontenidas que no pueden acceder por defecto al SO de la maquina que los esta ejecutando, de hecho ellos no saben que estan dentro de una maquina desde el punto de vista del contenedor.\n",
    "\n",
    "Sin embargo muchas veces, es necesario guardar los datos del contenedor, para usarlos en otros procesos. \n",
    "\n",
    "Crearemos un nuevo folder llamado *myDockerData*\n",
    "\n",
    "Para esta practica crearemos un container basado MongoDB:\n",
    "\n",
    "    sudo docker run --name myMongoPlatzi --detach mongo:5.0\n",
    "\n",
    "Hubiera podido colocar solo *mongo* al final pero como ya tenia una imagen guardada, para hacerlo mas rapido, baso mi nuevo conteneder en la existente.\n",
    "\n",
    "Verifico este corriendo:\n",
    "\n",
    "    sudo docker ps\n",
    "\n",
    "Para generar algunso datos dentro del contenedor, primero executamos una terminal:\n",
    "\n",
    "    sudo docker exec -it  myMongoPlatzi bash\n",
    "\n",
    "El prompt cambia, indicando podemos ejecutar comandos dentro del contenedor:\n",
    "\n",
    "    root@4e10d97111ad:/#\n",
    "\n",
    "Este contenedor viene con un binario que es el cliente de la base de datos, \n",
    "\n",
    "    mongo\n",
    "\n",
    "Tambien puedo usar *mongosh* como es constumbre en el curso de MongoDB\n",
    "\n",
    "    mongosh\n"
   ]
  },
  {
   "attachments": {},
   "cell_type": "markdown",
   "metadata": {},
   "source": [
    "Y ahora, algunso comandos de Mongo para crear una base de datos, la coleccion y almenos un documento.\n",
    "\n",
    "    use platzi\n",
    "    db.user.insert({ name: \"rodrigo\", age: 30 })\n",
    "\n",
    "Verificando este creado:\n",
    "\n",
    "    db.user.insert({ name: \"rodrigo\", age: 30 })\n",
    "\n",
    "Sin embargo, cuando paremos el contenedor, y cuando lo borremos, perderemos la informacion. 😞"
   ]
  },
  {
   "attachments": {},
   "cell_type": "markdown",
   "metadata": {},
   "source": [
    "### Creando el bind mount\n",
    "\n",
    "Una forma de no perder la informacion, es tener un directorio en mi maquina que tenga una version espejada de lo que ocurre en el contenedor. Para hacer esto haremos un *bind mount*\n",
    "\n",
    "Borremos el contenedor y creemos uno nuevo con el mismo nombre:\n",
    "\n",
    "    sudo docker rm myMongoPlatzi\n",
    "\n",
    "\n",
    "con *-v* o *--volume* le indicamos que queremos hacer un *bind mount*. Mongo guarda los datos en **/data/db**. Entonces iria asi \n",
    "\n",
    "**--volume (ruta local):(ruta a copiar)**\n",
    "\n",
    "    docker run -d --name myMongoPlatzi --volume /home/carlos/Documents/curso_docker/myDockerData:/data/db mongo:5.0"
   ]
  },
  {
   "attachments": {},
   "cell_type": "markdown",
   "metadata": {},
   "source": [
    "De igual manera, volvemos a crear los datos nuevamente\n",
    "\n",
    "    mongosh\n",
    "\n",
    "    use platzi\n",
    "\n",
    "    db.users.insertMany([{ name: \"gustavo\", age: 31}, { name: \"rodrigo\", age:19 }])\n",
    "\n",
    "    db.users.find()\n",
    "\n",
    "Salgamos, y borremos el contenedor totalmente\n",
    "\n",
    "    sudo docker rm -f myMongoPlatzi\n",
    "\n",
    "Observemos que la carpeta *myDockerData* tiene nueva informacion:\n",
    "\n",
    "![](https://i.imgur.com/cTrq831.png)\n"
   ]
  },
  {
   "attachments": {},
   "cell_type": "markdown",
   "metadata": {},
   "source": [
    "### Recuperando los datos\n",
    "\n",
    "Volvamos a crear un nuevo contenedor con el nombre *osito*, teniendo en cuenta de montar el directorio, que ya tiene nueva informacion:\n",
    "\n",
    "    docker run -d --name osito --volume /home/carlos/Documents/curso_docker/myDockerData:/data/db mongo:5.0\n",
    "\n",
    "Y efectivamente al hacer todo el procedimiento, y mirar con el querry:\n",
    "\n",
    "    use platzi\n",
    "    db.users.find()\n",
    "\n",
    "Y estaran los datos tal y como los habia guardado 😊😊\n"
   ]
  },
  {
   "attachments": {},
   "cell_type": "markdown",
   "metadata": {},
   "source": [
    "Esta es una manera muy practica de compartir los datos de mi disco hacia el contenedor, sin embargo esto tiene un riesgo, al darle acceso irrestrico de una parte del disco al contenedor, pero no es la practica mas segura.  "
   ]
  }
 ],
 "metadata": {
  "language_info": {
   "name": "python"
  },
  "orig_nbformat": 4
 },
 "nbformat": 4,
 "nbformat_minor": 2
}
